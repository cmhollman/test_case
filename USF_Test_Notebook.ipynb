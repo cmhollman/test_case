{
 "cells": [
  {
   "cell_type": "markdown",
   "id": "fad3e421",
   "metadata": {},
   "source": [
    "# Overview\n",
    "The purpose of this project is to provide a code example to US Foods as part of the application proccess for the Associate Decision Scientist Role."
   ]
  },
  {
   "cell_type": "markdown",
   "id": "e347ddfa",
   "metadata": {},
   "source": [
    "## Business Case\n",
    "For the sake of simplicity this project will aim to answer the question \"Where is US Foods losing sales to our largest competitor.\" "
   ]
  },
  {
   "cell_type": "markdown",
   "id": "09375500",
   "metadata": {},
   "source": [
    "## Project Overview\n",
    "This particular project will focus on EDA, visualization, and use of required tools rather than any sort of modeling techniques, but I am happy to apply more advance techniques to this test case if I am misunderstanding the brief. I have joined and queried tho original data in BigQuery. That code sample can be found [here](https://console.cloud.google.com/bigquery?sq=737860077884:bc2118241c7f47e78c6de0419ba0c6ed)"
   ]
  },
  {
   "cell_type": "code",
   "execution_count": 116,
   "id": "9f2eb5a5",
   "metadata": {},
   "outputs": [],
   "source": [
    "import pandas as pd\n",
    "import numpy as np\n",
    "import matplotlib.pyplot as plt "
   ]
  },
  {
   "cell_type": "code",
   "execution_count": 117,
   "id": "a3829be7",
   "metadata": {},
   "outputs": [],
   "source": [
    "usf_data = pd.read_csv(\"Data/usf_data.csv\")"
   ]
  },
  {
   "cell_type": "markdown",
   "id": "e068269d",
   "metadata": {},
   "source": [
    "## EDA/ Basic Cleaning"
   ]
  },
  {
   "cell_type": "code",
   "execution_count": 118,
   "id": "0228867d",
   "metadata": {},
   "outputs": [
    {
     "data": {
      "text/html": [
       "<div>\n",
       "<style scoped>\n",
       "    .dataframe tbody tr th:only-of-type {\n",
       "        vertical-align: middle;\n",
       "    }\n",
       "\n",
       "    .dataframe tbody tr th {\n",
       "        vertical-align: top;\n",
       "    }\n",
       "\n",
       "    .dataframe thead th {\n",
       "        text-align: right;\n",
       "    }\n",
       "</style>\n",
       "<table border=\"1\" class=\"dataframe\">\n",
       "  <thead>\n",
       "    <tr style=\"text-align: right;\">\n",
       "      <th></th>\n",
       "      <th>REPORTED_WKLY_SPEND</th>\n",
       "      <th>REPORTED_WKLY_SPEND_USF</th>\n",
       "      <th>REPORTED_WKLY_SPEND_COMPETITOR_1</th>\n",
       "      <th>REPORTED_COP_SPEND</th>\n",
       "      <th>REPORTED_PRODUCE_SPEND</th>\n",
       "      <th>SMALL_QTY_RANK</th>\n",
       "      <th>DEL_FLEX_RANK</th>\n",
       "      <th>CUT_TIME_RANK</th>\n",
       "      <th>CUST_NBR</th>\n",
       "      <th>DIV_NBR</th>\n",
       "      <th>PYR_SEG_CD</th>\n",
       "    </tr>\n",
       "  </thead>\n",
       "  <tbody>\n",
       "    <tr>\n",
       "      <th>0</th>\n",
       "      <td>9479.075269</td>\n",
       "      <td>7791.020769</td>\n",
       "      <td>0.000000</td>\n",
       "      <td>4064.315835</td>\n",
       "      <td>1707.532052</td>\n",
       "      <td>0</td>\n",
       "      <td>0</td>\n",
       "      <td>0</td>\n",
       "      <td>84639</td>\n",
       "      <td>48</td>\n",
       "      <td>Hospitality</td>\n",
       "    </tr>\n",
       "    <tr>\n",
       "      <th>1</th>\n",
       "      <td>2688.356382</td>\n",
       "      <td>2570.130385</td>\n",
       "      <td>102.805215</td>\n",
       "      <td>1858.204268</td>\n",
       "      <td>4.626235</td>\n",
       "      <td>0</td>\n",
       "      <td>0</td>\n",
       "      <td>0</td>\n",
       "      <td>152945</td>\n",
       "      <td>16</td>\n",
       "      <td>Regional</td>\n",
       "    </tr>\n",
       "    <tr>\n",
       "      <th>2</th>\n",
       "      <td>1028.640941</td>\n",
       "      <td>734.743529</td>\n",
       "      <td>0.000000</td>\n",
       "      <td>440.846118</td>\n",
       "      <td>257.160235</td>\n",
       "      <td>0</td>\n",
       "      <td>0</td>\n",
       "      <td>0</td>\n",
       "      <td>85492</td>\n",
       "      <td>2</td>\n",
       "      <td>Other</td>\n",
       "    </tr>\n",
       "    <tr>\n",
       "      <th>3</th>\n",
       "      <td>125952.856200</td>\n",
       "      <td>25952.856150</td>\n",
       "      <td>100000.000000</td>\n",
       "      <td>80000.000000</td>\n",
       "      <td>20000.000000</td>\n",
       "      <td>0</td>\n",
       "      <td>0</td>\n",
       "      <td>0</td>\n",
       "      <td>83150</td>\n",
       "      <td>52</td>\n",
       "      <td>Other</td>\n",
       "    </tr>\n",
       "    <tr>\n",
       "      <th>4</th>\n",
       "      <td>24267.451730</td>\n",
       "      <td>16267.451730</td>\n",
       "      <td>0.000000</td>\n",
       "      <td>21600.000000</td>\n",
       "      <td>7200.000000</td>\n",
       "      <td>0</td>\n",
       "      <td>0</td>\n",
       "      <td>0</td>\n",
       "      <td>129109</td>\n",
       "      <td>3</td>\n",
       "      <td>Independent Restaurant</td>\n",
       "    </tr>\n",
       "  </tbody>\n",
       "</table>\n",
       "</div>"
      ],
      "text/plain": [
       "   REPORTED_WKLY_SPEND  REPORTED_WKLY_SPEND_USF  \\\n",
       "0          9479.075269              7791.020769   \n",
       "1          2688.356382              2570.130385   \n",
       "2          1028.640941               734.743529   \n",
       "3        125952.856200             25952.856150   \n",
       "4         24267.451730             16267.451730   \n",
       "\n",
       "   REPORTED_WKLY_SPEND_COMPETITOR_1  REPORTED_COP_SPEND  \\\n",
       "0                          0.000000         4064.315835   \n",
       "1                        102.805215         1858.204268   \n",
       "2                          0.000000          440.846118   \n",
       "3                     100000.000000        80000.000000   \n",
       "4                          0.000000        21600.000000   \n",
       "\n",
       "   REPORTED_PRODUCE_SPEND  SMALL_QTY_RANK  DEL_FLEX_RANK  CUT_TIME_RANK  \\\n",
       "0             1707.532052               0              0              0   \n",
       "1                4.626235               0              0              0   \n",
       "2              257.160235               0              0              0   \n",
       "3            20000.000000               0              0              0   \n",
       "4             7200.000000               0              0              0   \n",
       "\n",
       "   CUST_NBR  DIV_NBR              PYR_SEG_CD  \n",
       "0     84639       48             Hospitality  \n",
       "1    152945       16                Regional  \n",
       "2     85492        2                   Other  \n",
       "3     83150       52                   Other  \n",
       "4    129109        3  Independent Restaurant  "
      ]
     },
     "execution_count": 118,
     "metadata": {},
     "output_type": "execute_result"
    }
   ],
   "source": [
    "usf_data.head()"
   ]
  },
  {
   "cell_type": "code",
   "execution_count": 119,
   "id": "4b20c958",
   "metadata": {},
   "outputs": [],
   "source": [
    "spend_values = pd.DataFrame(usf_data['REPORTED_WKLY_SPEND'].value_counts())"
   ]
  },
  {
   "cell_type": "code",
   "execution_count": 120,
   "id": "13a227bc",
   "metadata": {},
   "outputs": [
    {
     "data": {
      "text/html": [
       "<div>\n",
       "<style scoped>\n",
       "    .dataframe tbody tr th:only-of-type {\n",
       "        vertical-align: middle;\n",
       "    }\n",
       "\n",
       "    .dataframe tbody tr th {\n",
       "        vertical-align: top;\n",
       "    }\n",
       "\n",
       "    .dataframe thead th {\n",
       "        text-align: right;\n",
       "    }\n",
       "</style>\n",
       "<table border=\"1\" class=\"dataframe\">\n",
       "  <thead>\n",
       "    <tr style=\"text-align: right;\">\n",
       "      <th></th>\n",
       "      <th>REPORTED_WKLY_SPEND</th>\n",
       "    </tr>\n",
       "  </thead>\n",
       "  <tbody>\n",
       "    <tr>\n",
       "      <th>1.000000</th>\n",
       "      <td>178</td>\n",
       "    </tr>\n",
       "    <tr>\n",
       "      <th>1336.702308</th>\n",
       "      <td>4</td>\n",
       "    </tr>\n",
       "    <tr>\n",
       "      <th>1381.663846</th>\n",
       "      <td>4</td>\n",
       "    </tr>\n",
       "    <tr>\n",
       "      <th>13023.918650</th>\n",
       "      <td>4</td>\n",
       "    </tr>\n",
       "    <tr>\n",
       "      <th>1001.000000</th>\n",
       "      <td>4</td>\n",
       "    </tr>\n",
       "  </tbody>\n",
       "</table>\n",
       "</div>"
      ],
      "text/plain": [
       "              REPORTED_WKLY_SPEND\n",
       "1.000000                      178\n",
       "1336.702308                     4\n",
       "1381.663846                     4\n",
       "13023.918650                    4\n",
       "1001.000000                     4"
      ]
     },
     "execution_count": 120,
     "metadata": {},
     "output_type": "execute_result"
    }
   ],
   "source": [
    "#this table reveals a number of what I think are placeholder values \n",
    "#including a number that I picked up while exploring the spreadsheet\n",
    "#there are a number of exact entries that follow a similar pattern (1001,2001,3001 etc.)\n",
    "#the math on these entries does not add up properly so I will drop them as well as 1.000 values\n",
    "spend_values.head()"
   ]
  },
  {
   "cell_type": "code",
   "execution_count": 121,
   "id": "5b27ce9c",
   "metadata": {
    "scrolled": false
   },
   "outputs": [],
   "source": [
    "# Convert the \"REPORTED_WKLY_SPEND\" column to string type\n",
    "usf_data.loc[:, 'REPORTED_WKLY_SPEND'] = usf_data['REPORTED_WKLY_SPEND'].astype(str)\n",
    "\n",
    "# Drop rows where the column value ends with \".000000\" (shortened to .0 when converted to string)\n",
    "usf_data = usf_data.loc[~usf_data['REPORTED_WKLY_SPEND'].str.endswith('.0')]\n",
    "\n",
    "# Convert the \"REPORTED_WKLY_SPEND\" column back to float type if needed\n",
    "usf_data['REPORTED_WKLY_SPEND'] = usf_data['REPORTED_WKLY_SPEND'].astype(float)\n",
    "\n"
   ]
  },
  {
   "cell_type": "code",
   "execution_count": 122,
   "id": "8ed76bac",
   "metadata": {},
   "outputs": [
    {
     "data": {
      "text/plain": [
       "13023.918650    4\n",
       "876.985192      4\n",
       "1381.663846     4\n",
       "1336.702308     4\n",
       "4344.482885     3\n",
       "               ..\n",
       "2766.350769     1\n",
       "21.605769       1\n",
       "1362.935769     1\n",
       "6286.943077     1\n",
       "1624.156364     1\n",
       "Name: REPORTED_WKLY_SPEND, Length: 2002, dtype: int64"
      ]
     },
     "execution_count": 122,
     "metadata": {},
     "output_type": "execute_result"
    }
   ],
   "source": [
    "#verifyin that the proper values have been dropped\n",
    "usf_data['REPORTED_WKLY_SPEND'].value_counts()"
   ]
  },
  {
   "cell_type": "code",
   "execution_count": 123,
   "id": "0fa58252",
   "metadata": {},
   "outputs": [],
   "source": [
    "#creating percentage based values for each customers order mix\n",
    "usf_data['usf_pct'] = usf_data['REPORTED_WKLY_SPEND_USF']/usf_data['REPORTED_WKLY_SPEND']\n",
    "usf_data['comp_1_pct'] = usf_data['REPORTED_WKLY_SPEND_COMPETITOR_1']/usf_data['REPORTED_WKLY_SPEND']"
   ]
  },
  {
   "cell_type": "code",
   "execution_count": 127,
   "id": "2d36f572",
   "metadata": {},
   "outputs": [],
   "source": [
    "usf_data.to_csv('Data/usf_tableau')"
   ]
  },
  {
   "cell_type": "markdown",
   "id": "90d04a35",
   "metadata": {},
   "source": [
    "### Conclusion\n",
    "More could be done here, but I will save this portion of the work process in order to work with Tableau."
   ]
  }
 ],
 "metadata": {
  "kernelspec": {
   "display_name": "Python 3 (ipykernel)",
   "language": "python",
   "name": "python3"
  },
  "language_info": {
   "codemirror_mode": {
    "name": "ipython",
    "version": 3
   },
   "file_extension": ".py",
   "mimetype": "text/x-python",
   "name": "python",
   "nbconvert_exporter": "python",
   "pygments_lexer": "ipython3",
   "version": "3.8.16"
  }
 },
 "nbformat": 4,
 "nbformat_minor": 5
}
